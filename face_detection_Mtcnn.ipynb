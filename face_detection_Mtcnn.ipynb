{
  "nbformat": 4,
  "nbformat_minor": 0,
  "metadata": {
    "colab": {
      "name": "face_detection_Mtcnn.ipynb",
      "provenance": [],
      "collapsed_sections": [],
      "authorship_tag": "ABX9TyO6W2Ok2khiy3MFRyA21rkZ",
      "include_colab_link": true
    },
    "kernelspec": {
      "name": "python3",
      "display_name": "Python 3"
    }
  },
  "cells": [
    {
      "cell_type": "markdown",
      "metadata": {
        "id": "view-in-github",
        "colab_type": "text"
      },
      "source": [
        "<a href=\"https://colab.research.google.com/github/nik9327/face_detection_using_mtcnn/blob/main/face_detection_Mtcnn.ipynb\" target=\"_parent\"><img src=\"https://colab.research.google.com/assets/colab-badge.svg\" alt=\"Open In Colab\"/></a>"
      ]
    },
    {
      "cell_type": "markdown",
      "metadata": {
        "id": "uXAtADpS9rxu"
      },
      "source": [
        "**Installing the MTCNN library**\n"
      ]
    },
    {
      "cell_type": "code",
      "metadata": {
        "id": "CGNFbM76BOzk",
        "colab": {
          "base_uri": "https://localhost:8080/"
        },
        "outputId": "4c5149e6-8cf5-4a75-de47-b290f1a659c8"
      },
      "source": [
        "pip install mtcnn"
      ],
      "execution_count": null,
      "outputs": [
        {
          "output_type": "stream",
          "name": "stdout",
          "text": [
            "Collecting mtcnn\n",
            "  Downloading mtcnn-0.1.1-py3-none-any.whl (2.3 MB)\n",
            "\u001b[K     |████████████████████████████████| 2.3 MB 5.1 MB/s \n",
            "\u001b[?25hRequirement already satisfied: keras>=2.0.0 in /usr/local/lib/python3.7/dist-packages (from mtcnn) (2.7.0)\n",
            "Requirement already satisfied: opencv-python>=4.1.0 in /usr/local/lib/python3.7/dist-packages (from mtcnn) (4.1.2.30)\n",
            "Requirement already satisfied: numpy>=1.14.5 in /usr/local/lib/python3.7/dist-packages (from opencv-python>=4.1.0->mtcnn) (1.19.5)\n",
            "Installing collected packages: mtcnn\n",
            "Successfully installed mtcnn-0.1.1\n"
          ]
        }
      ]
    },
    {
      "cell_type": "markdown",
      "metadata": {
        "id": "MgV_OX8V-Dlp"
      },
      "source": [
        ""
      ]
    },
    {
      "cell_type": "markdown",
      "metadata": {
        "id": "t6ymDjIP-DuB"
      },
      "source": [
        "** Importing Mtcnn and checking version **\n"
      ]
    },
    {
      "cell_type": "code",
      "metadata": {
        "colab": {
          "base_uri": "https://localhost:8080/"
        },
        "id": "aqxj8qjH8Ir5",
        "outputId": "f3122bec-3f34-41b9-f6c9-21a1d9a475f2"
      },
      "source": [
        "import mtcnn\n",
        "# print version\n",
        "print(mtcnn.__version__)"
      ],
      "execution_count": null,
      "outputs": [
        {
          "output_type": "stream",
          "name": "stdout",
          "text": [
            "0.1.0\n"
          ]
        }
      ]
    },
    {
      "cell_type": "markdown",
      "metadata": {
        "id": "k7ou63US-MxJ"
      },
      "source": [
        "** Detecting the cordinates of the faces **\n",
        "\n",
        "firstly cordinates for the box that shows the whole faces cordinates\n",
        "\n",
        "secondly cordinates for the right eyes, left eye, Left_mouthand right_mouth"
      ]
    },
    {
      "cell_type": "code",
      "metadata": {
        "colab": {
          "base_uri": "https://localhost:8080/",
          "height": 380
        },
        "id": "1MzW55pe8Vv6",
        "outputId": "f9a427c3-6da0-4594-c91d-e1da7f1ec30a"
      },
      "source": [
        "from matplotlib import pyplot\n",
        "from mtcnn.mtcnn import MTCNN\n",
        "# load image from file\n",
        "filename = '1.jpg'\n",
        "pixels = pyplot.imread(filename)\n",
        "# create the detector, using default weights\n",
        "detector = MTCNN()\n",
        "# detect faces in the image\n",
        "faces = detector.detect_faces(pixels)\n",
        "for face in faces:\n",
        "\tprint(face)"
      ],
      "execution_count": null,
      "outputs": [
        {
          "output_type": "error",
          "ename": "FileNotFoundError",
          "evalue": "ignored",
          "traceback": [
            "\u001b[0;31m---------------------------------------------------------------------------\u001b[0m",
            "\u001b[0;31mFileNotFoundError\u001b[0m                         Traceback (most recent call last)",
            "\u001b[0;32m<ipython-input-3-0be2ed66055b>\u001b[0m in \u001b[0;36m<module>\u001b[0;34m()\u001b[0m\n\u001b[1;32m      3\u001b[0m \u001b[0;31m# load image from file\u001b[0m\u001b[0;34m\u001b[0m\u001b[0;34m\u001b[0m\u001b[0;34m\u001b[0m\u001b[0m\n\u001b[1;32m      4\u001b[0m \u001b[0mfilename\u001b[0m \u001b[0;34m=\u001b[0m \u001b[0;34m'1.jpg'\u001b[0m\u001b[0;34m\u001b[0m\u001b[0;34m\u001b[0m\u001b[0m\n\u001b[0;32m----> 5\u001b[0;31m \u001b[0mpixels\u001b[0m \u001b[0;34m=\u001b[0m \u001b[0mpyplot\u001b[0m\u001b[0;34m.\u001b[0m\u001b[0mimread\u001b[0m\u001b[0;34m(\u001b[0m\u001b[0mfilename\u001b[0m\u001b[0;34m)\u001b[0m\u001b[0;34m\u001b[0m\u001b[0;34m\u001b[0m\u001b[0m\n\u001b[0m\u001b[1;32m      6\u001b[0m \u001b[0;31m# create the detector, using default weights\u001b[0m\u001b[0;34m\u001b[0m\u001b[0;34m\u001b[0m\u001b[0;34m\u001b[0m\u001b[0m\n\u001b[1;32m      7\u001b[0m \u001b[0mdetector\u001b[0m \u001b[0;34m=\u001b[0m \u001b[0mMTCNN\u001b[0m\u001b[0;34m(\u001b[0m\u001b[0;34m)\u001b[0m\u001b[0;34m\u001b[0m\u001b[0;34m\u001b[0m\u001b[0m\n",
            "\u001b[0;32m/usr/local/lib/python3.7/dist-packages/matplotlib/pyplot.py\u001b[0m in \u001b[0;36mimread\u001b[0;34m(fname, format)\u001b[0m\n\u001b[1;32m   2059\u001b[0m \u001b[0;34m@\u001b[0m\u001b[0mdocstring\u001b[0m\u001b[0;34m.\u001b[0m\u001b[0mcopy\u001b[0m\u001b[0;34m(\u001b[0m\u001b[0mmatplotlib\u001b[0m\u001b[0;34m.\u001b[0m\u001b[0mimage\u001b[0m\u001b[0;34m.\u001b[0m\u001b[0mimread\u001b[0m\u001b[0;34m)\u001b[0m\u001b[0;34m\u001b[0m\u001b[0;34m\u001b[0m\u001b[0m\n\u001b[1;32m   2060\u001b[0m \u001b[0;32mdef\u001b[0m \u001b[0mimread\u001b[0m\u001b[0;34m(\u001b[0m\u001b[0mfname\u001b[0m\u001b[0;34m,\u001b[0m \u001b[0mformat\u001b[0m\u001b[0;34m=\u001b[0m\u001b[0;32mNone\u001b[0m\u001b[0;34m)\u001b[0m\u001b[0;34m:\u001b[0m\u001b[0;34m\u001b[0m\u001b[0;34m\u001b[0m\u001b[0m\n\u001b[0;32m-> 2061\u001b[0;31m     \u001b[0;32mreturn\u001b[0m \u001b[0mmatplotlib\u001b[0m\u001b[0;34m.\u001b[0m\u001b[0mimage\u001b[0m\u001b[0;34m.\u001b[0m\u001b[0mimread\u001b[0m\u001b[0;34m(\u001b[0m\u001b[0mfname\u001b[0m\u001b[0;34m,\u001b[0m \u001b[0mformat\u001b[0m\u001b[0;34m)\u001b[0m\u001b[0;34m\u001b[0m\u001b[0;34m\u001b[0m\u001b[0m\n\u001b[0m\u001b[1;32m   2062\u001b[0m \u001b[0;34m\u001b[0m\u001b[0m\n\u001b[1;32m   2063\u001b[0m \u001b[0;34m\u001b[0m\u001b[0m\n",
            "\u001b[0;32m/usr/local/lib/python3.7/dist-packages/matplotlib/image.py\u001b[0m in \u001b[0;36mimread\u001b[0;34m(fname, format)\u001b[0m\n\u001b[1;32m   1462\u001b[0m             raise ValueError('Only know how to handle PNG; with Pillow '\n\u001b[1;32m   1463\u001b[0m                              'installed, Matplotlib can handle more images')\n\u001b[0;32m-> 1464\u001b[0;31m         \u001b[0;32mwith\u001b[0m \u001b[0mImage\u001b[0m\u001b[0;34m.\u001b[0m\u001b[0mopen\u001b[0m\u001b[0;34m(\u001b[0m\u001b[0mfname\u001b[0m\u001b[0;34m)\u001b[0m \u001b[0;32mas\u001b[0m \u001b[0mimage\u001b[0m\u001b[0;34m:\u001b[0m\u001b[0;34m\u001b[0m\u001b[0;34m\u001b[0m\u001b[0m\n\u001b[0m\u001b[1;32m   1465\u001b[0m             \u001b[0;32mreturn\u001b[0m \u001b[0mpil_to_array\u001b[0m\u001b[0;34m(\u001b[0m\u001b[0mimage\u001b[0m\u001b[0;34m)\u001b[0m\u001b[0;34m\u001b[0m\u001b[0;34m\u001b[0m\u001b[0m\n\u001b[1;32m   1466\u001b[0m     \u001b[0;32mfrom\u001b[0m \u001b[0mmatplotlib\u001b[0m \u001b[0;32mimport\u001b[0m \u001b[0m_png\u001b[0m\u001b[0;34m\u001b[0m\u001b[0;34m\u001b[0m\u001b[0m\n",
            "\u001b[0;32m/usr/local/lib/python3.7/dist-packages/PIL/Image.py\u001b[0m in \u001b[0;36mopen\u001b[0;34m(fp, mode)\u001b[0m\n\u001b[1;32m   2841\u001b[0m \u001b[0;34m\u001b[0m\u001b[0m\n\u001b[1;32m   2842\u001b[0m     \u001b[0;32mif\u001b[0m \u001b[0mfilename\u001b[0m\u001b[0;34m:\u001b[0m\u001b[0;34m\u001b[0m\u001b[0;34m\u001b[0m\u001b[0m\n\u001b[0;32m-> 2843\u001b[0;31m         \u001b[0mfp\u001b[0m \u001b[0;34m=\u001b[0m \u001b[0mbuiltins\u001b[0m\u001b[0;34m.\u001b[0m\u001b[0mopen\u001b[0m\u001b[0;34m(\u001b[0m\u001b[0mfilename\u001b[0m\u001b[0;34m,\u001b[0m \u001b[0;34m\"rb\"\u001b[0m\u001b[0;34m)\u001b[0m\u001b[0;34m\u001b[0m\u001b[0;34m\u001b[0m\u001b[0m\n\u001b[0m\u001b[1;32m   2844\u001b[0m         \u001b[0mexclusive_fp\u001b[0m \u001b[0;34m=\u001b[0m \u001b[0;32mTrue\u001b[0m\u001b[0;34m\u001b[0m\u001b[0;34m\u001b[0m\u001b[0m\n\u001b[1;32m   2845\u001b[0m \u001b[0;34m\u001b[0m\u001b[0m\n",
            "\u001b[0;31mFileNotFoundError\u001b[0m: [Errno 2] No such file or directory: '1.jpg'"
          ]
        }
      ]
    },
    {
      "cell_type": "markdown",
      "metadata": {
        "id": "LEi30NGG_8ui"
      },
      "source": [
        "** draw an image with detected objects**\n"
      ]
    },
    {
      "cell_type": "code",
      "metadata": {
        "id": "gYANxnA88p7K"
      },
      "source": [
        "# draw an image with detected objects\n",
        "def draw_image_with_boxes(filename, result_list):\n",
        "    # load the image\n",
        "    data = pyplot.imread(filename)\n",
        "    # plot the image\n",
        "    # imshow- Display an image, i.e. data on a 2D regular raster.\n",
        "    pyplot.imshow(data)\n",
        "    # get the context for drawing boxes\n",
        "    # To get the current polar axes on the current figure::\n",
        "    ax = pyplot.gca()\n",
        "    # plot each box\n",
        "    for result in result_list:\n",
        "        # get coordinates\n",
        "        x, y, width, height = result['box']\n",
        "        # create the shape\n",
        "        rect = Rectangle((x, y), width, height, fill=False, color='red')\n",
        "        # draw the box\n",
        "    ax.add_patch(rect)\n",
        "    # show the plot\n",
        "    pyplot.show()"
      ],
      "execution_count": null,
      "outputs": []
    },
    {
      "cell_type": "markdown",
      "metadata": {
        "id": "1LRNF0YgABsE"
      },
      "source": [
        "** displaying the rectangle in all the faces detected**"
      ]
    },
    {
      "cell_type": "code",
      "metadata": {
        "id": "Bc02rEA09EYe"
      },
      "source": [
        "from matplotlib import pyplot\n",
        "from matplotlib.patches import Rectangle\n",
        "from mtcnn.mtcnn import MTCNN\n",
        " \n",
        "# draw an image with detected objects\n",
        "def draw_image_with_boxes(filename, result_list):\n",
        "    # load the image\n",
        "    data = pyplot.imread(filename)\n",
        "    # plot the image\n",
        "    pyplot.imshow(data)\n",
        "    # get the context for drawing boxes\n",
        "    ax = pyplot.gca()\n",
        "    # plot each box\n",
        "    for result in result_list:\n",
        "        # get coordinates\n",
        "        x, y, width, height = result['box']\n",
        "        # create the shape\n",
        "        rect = Rectangle((x, y), width, height, fill=False, color='red')\n",
        "        # draw the box\n",
        "        ax.add_patch(rect)\n",
        "    # show the plot\n",
        "    pyplot.show()\n",
        " \n",
        "filename = '1.jpg'\n",
        "# load image from file\n",
        "pixels = pyplot.imread(filename)\n",
        "# create the detector, using default weights\n",
        "detector = MTCNN()\n",
        "# detect faces in the image\n",
        "faces = detector.detect_faces(pixels)\n",
        "# display faces on the original image\n",
        "draw_image_with_boxes(filename, faces)"
      ],
      "execution_count": null,
      "outputs": []
    },
    {
      "cell_type": "markdown",
      "metadata": {
        "id": "UulDD1JHAPK1"
      },
      "source": [
        "**face detection with mtcnn on a photograph**"
      ]
    },
    {
      "cell_type": "code",
      "metadata": {
        "id": "D3WaWEd99HXI"
      },
      "source": [
        "# face detection with mtcnn on a photograph\n",
        "from matplotlib.patches import Rectangle\n",
        "from matplotlib.patches import Circle\n",
        "from mtcnn.mtcnn import MTCNN\n",
        " \n",
        "# draw an image with detected objects\n",
        "def draw_image_with_boxes(filename, result_list):\n",
        "    # load the image\n",
        "    data = pyplot.imread(filename)\n",
        "    # plot the image\n",
        "    pyplot.imshow(data)\n",
        "    # get the context for drawing boxes\n",
        "    ax = pyplot.gca()\n",
        "    # plot each box\n",
        "    for result in result_list:\n",
        "        # get coordinates\n",
        "        x, y, width, height = result['box']\n",
        "        # create the shape\n",
        "        rect = Rectangle((x, y), width, height, fill=False, color='red')\n",
        "        # draw the box\n",
        "        ax.add_patch(rect)\n",
        "        # draw the dots\n",
        "        for key, value in result['keypoints'].items():\n",
        "            # create and draw dot\n",
        "            dot = Circle(value, radius=2, color='red')\n",
        "            ax.add_patch(dot)\n",
        "    # show the plot\n",
        "    pyplot.show()\n",
        " \n",
        "filename = '1.jpg'\n",
        "# load image from file\n",
        "pixels = pyplot.imread(filename)\n",
        "# create the detector, using default weights\n",
        "detector = MTCNN()\n",
        "# detect faces in the image\n",
        "faces = detector.detect_faces(pixels)\n",
        "# display faces on the original image\n",
        "draw_image_with_boxes(filename, faces)\n"
      ],
      "execution_count": null,
      "outputs": []
    },
    {
      "cell_type": "markdown",
      "metadata": {
        "id": "HjI-ZoGM9kXt"
      },
      "source": [
        "Plot of Each Separate Face Detected in a Photograph"
      ]
    },
    {
      "cell_type": "code",
      "metadata": {
        "id": "EL22rf8u9Mar"
      },
      "source": [
        "# extract and plot each detected face in a photograph\n",
        "from matplotlib import pyplot\n",
        "from matplotlib.patches import Rectangle\n",
        "from matplotlib.patches import Circle\n",
        "from mtcnn.mtcnn import MTCNN\n",
        " \n",
        "# draw each face separately\n",
        "def draw_faces(filename, result_list):\n",
        "    # load the image\n",
        "    data = pyplot.imread(filename)\n",
        "    # plot each face as a subplot\n",
        "    for i in range(len(result_list)):\n",
        "        # get coordinates\n",
        "        x1, y1, width, height = result_list[i]['box']\n",
        "        x2, y2 = x1 + width, y1 + height\n",
        "        # define subplot\n",
        "        pyplot.subplot(1, len(result_list), i+1)\n",
        "        pyplot.axis('off')\n",
        "        # plot face\n",
        "        pyplot.imshow(data[y1:y2, x1:x2])\n",
        "    # show the plot\n",
        "    pyplot.show()\n",
        " \n",
        "filename = '1.jpg'\n",
        "# load image from file\n",
        "pixels = pyplot.imread(filename)\n",
        "# create the detector, using default weights\n",
        "detector = MTCNN()\n",
        "# detect faces in the image\n",
        "faces = detector.detect_faces(pixels)\n",
        "# display faces on the original image\n",
        "draw_faces(filename, faces)"
      ],
      "execution_count": null,
      "outputs": []
    },
    {
      "cell_type": "code",
      "metadata": {
        "id": "6f1Ns_t69QBc"
      },
      "source": [
        ""
      ],
      "execution_count": null,
      "outputs": []
    }
  ]
}